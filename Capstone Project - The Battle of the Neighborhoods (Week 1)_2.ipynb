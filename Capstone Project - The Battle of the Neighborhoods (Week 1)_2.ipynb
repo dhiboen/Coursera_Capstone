{
 "cells": [
  {
   "cell_type": "markdown",
   "metadata": {},
   "source": [
    "# Capstone Project - The Battle of the Neighborhoods (Week 1)\n",
    "### Applied Data Science Capstone by IBM/Coursera"
   ]
  },
  {
   "cell_type": "markdown",
   "metadata": {},
   "source": [
    "## 1. Introduction: Business Problem"
   ]
  },
  {
   "cell_type": "markdown",
   "metadata": {},
   "source": [
    "Greater Manchester is a metropolitan county and combined authority area in North West England, with a population of 2.8 million; the third largest in England after Greater London and the West Midlands. It encompasses one of the largest metropolitan areas in the United Kingdom and comprises ten metropolitan boroughs: Bolton, Bury, Oldham, Rochdale, Stockport, Tameside, Trafford, Wigan, and the cities of Manchester and Salford.\n",
    "\n",
    "My client is planning to open a restaurant which serves Indonesian Cuisine. He believe that Indonesian Cuisine can  become very popular. In order to choose a location for his restaurant, my client wants to know which neighbourhood has the biggest potential for a restaurant of this kind of food to be successful.\n",
    "\n",
    "Because he is big fan of Manchester United Football Club, his search is limited to Trafford, so the restaurant can be close enough to Old Trafford Stadium.\n",
    "\n",
    "In this report, I present an advice for the ideal location to establish a new Indonesian restaurant in Greater Manchester."
   ]
  },
  {
   "cell_type": "markdown",
   "metadata": {},
   "source": [
    "## 2. Data"
   ]
  },
  {
   "cell_type": "markdown",
   "metadata": {},
   "source": [
    "Based on definition of our problem, factors that will influence our decission are:\n",
    "* number of existing restaurants in the neighborhood (any type of restaurant)\n",
    "* number of and distance to Indonesian restaurants in the neighborhood, if any\n",
    "* distance of neighborhood from city center\n",
    "\n",
    "We decided to use regularly spaced grid of locations, centered around city center, to define our neighborhoods.\n",
    "\n",
    "Following data sources will be needed to extract/generate the required information:\n",
    "* centers of candidate areas will be generated algorithmically and approximate addresses of centers of those areas will be obtained using **Google Maps API reverse geocoding**\n",
    "* number of restaurants and their type and location in every neighborhood will be obtained using **Foursquare API**\n",
    "* coordinate of Trafford center will be obtained using **Google Maps API geocoding**"
   ]
  }
 ],
 "metadata": {
  "kernelspec": {
   "display_name": "Python 3",
   "language": "python",
   "name": "python3"
  },
  "language_info": {
   "codemirror_mode": {
    "name": "ipython",
    "version": 3
   },
   "file_extension": ".py",
   "mimetype": "text/x-python",
   "name": "python",
   "nbconvert_exporter": "python",
   "pygments_lexer": "ipython3",
   "version": "3.9.0"
  }
 },
 "nbformat": 4,
 "nbformat_minor": 4
}
